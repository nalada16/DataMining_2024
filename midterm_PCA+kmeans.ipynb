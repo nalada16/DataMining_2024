{
 "cells": [
  {
   "cell_type": "code",
   "execution_count": 27,
   "metadata": {},
   "outputs": [
    {
     "name": "stdout",
     "output_type": "stream",
     "text": [
      "Empty DataFrame\n",
      "Columns: [Pregnancies, Glucose, BloodPressure, SkinThickness, Insulin, BMI, DiabetesPedigreeFunction, Age, Outcome]\n",
      "Index: []\n"
     ]
    },
    {
     "data": {
      "text/plain": [
       "({'Accuracy': 0.7164179104477612,\n",
       "  'Recall': 0.7887323943661971,\n",
       "  'Precision': 0.5714285714285714,\n",
       "  'F1 Score': 0.6627218934911242},\n",
       " {'Accuracy': 0.73,\n",
       "  'Recall': 0.7297297297297297,\n",
       "  'Precision': 0.6136363636363636,\n",
       "  'F1 Score': 0.6666666666666666})"
      ]
     },
     "execution_count": 27,
     "metadata": {},
     "output_type": "execute_result"
    }
   ],
   "source": [
    "import pandas as pd\n",
    "import numpy as np\n",
    "from sklearn.preprocessing import StandardScaler\n",
    "from sklearn.decomposition import PCA\n",
    "from sklearn.cluster import KMeans\n",
    "from sklearn.linear_model import LogisticRegression\n",
    "from sklearn.metrics import accuracy_score, recall_score, precision_score, f1_score\n",
    "\n",
    "# 加載數據\n",
    "a_train_data = pd.read_csv('實驗A/train_data.csv')\n",
    "a_test_data = pd.read_csv('實驗A/test_data.csv')\n",
    "b_train_data = pd.read_csv('實驗B/train_data.csv')\n",
    "b_test_data = pd.read_csv('實驗B/test_data.csv')\n",
    "print(a_train_data[a_train_data[\"BMI\"] == 0])\n",
    "\n",
    "# 假設最後一列是標籤\n",
    "y_train_a = a_train_data.iloc[:, -1]\n",
    "y_test_a = a_test_data.iloc[:, -1]\n",
    "y_train_b = b_train_data.iloc[:, -1]\n",
    "y_test_b = b_test_data.iloc[:, -1]\n",
    "\n",
    "# 特徵數據\n",
    "X_train_a = a_train_data.iloc[:, :-1]\n",
    "X_test_a = a_test_data.iloc[:, :-1]\n",
    "X_train_b = b_train_data.iloc[:, :-1]\n",
    "X_test_b = b_test_data.iloc[:, :-1]\n",
    "\n",
    "# 數據標準化\n",
    "scaler_a = StandardScaler()\n",
    "scaler_b = StandardScaler()\n",
    "\n",
    "X_train_a_scaled = scaler_a.fit_transform(X_train_a)\n",
    "X_test_a_scaled = scaler_a.transform(X_test_a)\n",
    "X_train_b_scaled = scaler_b.fit_transform(X_train_b)\n",
    "X_test_b_scaled = scaler_b.transform(X_test_b)\n",
    "\n",
    "# 應用PCA\n",
    "pca_a = PCA(n_components=0.95)\n",
    "pca_b = PCA(n_components=0.95)\n",
    "\n",
    "X_train_a_pca = pca_a.fit_transform(X_train_a_scaled)\n",
    "X_test_a_pca = pca_a.transform(X_test_a_scaled)\n",
    "X_train_b_pca = pca_b.fit_transform(X_train_b_scaled)\n",
    "X_test_b_pca = pca_b.transform(X_test_b_scaled)\n",
    "\n",
    "# K-means聚類\n",
    "kmeans_a = KMeans(n_clusters=2, random_state=42)\n",
    "kmeans_a.fit(X_train_a_pca)\n",
    "\n",
    "kmeans_b = KMeans(n_clusters=2, random_state=42)\n",
    "kmeans_b.fit(X_train_b_pca)\n",
    "\n",
    "predictions_a = kmeans_a.predict(X_test_a_pca)\n",
    "predictions_b = kmeans_b.predict(X_test_b_pca)\n",
    "\n",
    "for i, num in enumerate(predictions_a):\n",
    "    if num == 1:\n",
    "        predictions_a[i] = 0\n",
    "    else:\n",
    "        predictions_a[i] = 1\n",
    "\n",
    "\n",
    "# 計算性能指標\n",
    "results_a = {\n",
    "    \"Accuracy\": accuracy_score(y_test_a, predictions_a),\n",
    "    \"Recall\": recall_score(y_test_a, predictions_a),\n",
    "    \"Precision\": precision_score(y_test_a, predictions_a),\n",
    "    \"F1 Score\": f1_score(y_test_a, predictions_a)\n",
    "}\n",
    "\n",
    "results_b = {\n",
    "    \"Accuracy\": accuracy_score(y_test_b, predictions_b),\n",
    "    \"Recall\": recall_score(y_test_b, predictions_b),\n",
    "    \"Precision\": precision_score(y_test_b, predictions_b),\n",
    "    \"F1 Score\": f1_score(y_test_b, predictions_b)\n",
    "}\n",
    "\n",
    "results_a, results_b\n",
    "\n"
   ]
  }
 ],
 "metadata": {
  "kernelspec": {
   "display_name": "Python 3",
   "language": "python",
   "name": "python3"
  },
  "language_info": {
   "codemirror_mode": {
    "name": "ipython",
    "version": 3
   },
   "file_extension": ".py",
   "mimetype": "text/x-python",
   "name": "python",
   "nbconvert_exporter": "python",
   "pygments_lexer": "ipython3",
   "version": "3.10.7"
  }
 },
 "nbformat": 4,
 "nbformat_minor": 2
}
